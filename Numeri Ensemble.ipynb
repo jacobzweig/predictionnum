{
 "cells": [
  {
   "cell_type": "code",
   "execution_count": null,
   "metadata": {
    "collapsed": true
   },
   "outputs": [],
   "source": [
    "import pandas as pd\n",
    "from sklearn.ensemble import RandomForestClassifier, AdaBoostClassifier, VotingClassifier, ExtraTreesClassifier,BaggingClassifier\n",
    "from sklearn.tree import DecisionTreeClassifier\n",
    "from sklearn import svm\n",
    "from sklearn.metrics import roc_auc_score as AUC\n",
    "from sklearn.metrics import accuracy_score as accuracy\n",
    "import xgboost as xgb\n",
    "import numpy as np\n",
    "from sklearn.metrics import confusion_matrix, mean_squared_error, classification_report\n",
    "from sklearn.grid_search import GridSearchCV\n",
    "from sklearn import cross_validation, metrics\n",
    "import sys\n",
    "import os"
   ]
  },
  {
   "cell_type": "code",
   "execution_count": null,
   "metadata": {
    "collapsed": false
   },
   "outputs": [],
   "source": [
    "train_file = 'C:\\\\Users\\\\jacob\\Dropbox\\\\Documents\\\\Python\\\\numerai\\\\numerai_training_data.csv'\n",
    "test_file =  'C:\\\\Users\\\\jacob\\Dropbox\\\\Documents\\\\Python\\\\numerai\\\\numerai_tournament_data.csv'\n",
    "output_file = 'C:\\\\Users\\\\jacob\\Dropbox\\\\Documents\\\\Python\\\\numerai\\\\predictions.csv'\n",
    "\n",
    "train = pd.read_csv( train_file )\n",
    "test = pd.read_csv( test_file )\n",
    "\n",
    "train.drop( 'validation', axis = 1 , inplace = True )\n",
    "\n",
    "# encode the categorical variable as one-hot, drop the original column afterwards\n",
    "assert( set( train.c1.unique()) == set( test.c1.unique()))\n",
    "\n",
    "train_dummies = pd.get_dummies( train.c1 )\n",
    "train_num = pd.concat(( train.drop( 'c1', axis = 1 ), train_dummies.astype( int )), axis = 1 )\n",
    "\n",
    "test_dummies = pd.get_dummies( test.c1 )\n",
    "test_num = pd.concat(( test.drop( 'c1', axis = 1 ), test_dummies.astype(int) ), axis = 1 )"
   ]
  },
  {
   "cell_type": "code",
   "execution_count": null,
   "metadata": {
    "collapsed": false
   },
   "outputs": [],
   "source": [
    "#Make classifiers\n",
    "clf1 = AdaBoostClassifier(DecisionTreeClassifier(max_depth=1),\n",
    "                        algorithm=\"SAMME.R\",\n",
    "                        n_estimators=500)\n",
    "clf2 = RandomForestClassifier(n_estimators=500)\n",
    "clf3 = ExtraTreesClassifier(n_estimators=500)\n",
    "clf4 = svm.SVC()\n",
    "clf5 = svm.SVC(kernel='rbf', gamma=2)\n",
    "clf_XGB =  xgb.XGBClassifier()\n",
    "clf_XGB2 = xgb.XGBClassifier(max_depth=2, n_estimators=100)\n",
    "clf_XGB3 = xgb.XGBClassifier(max_depth=2, n_estimators=200)\n",
    "clf_XGB4 = xgb.XGBClassifier(max_depth=2, n_estimators=400)\n",
    "\n",
    "\n",
    "clf_XGB5 = xgb.XGBClassifier(max_depth=4, n_estimators=100)\n",
    "clf_XGB6 = xgb.XGBClassifier(max_depth=4, n_estimators=200)\n",
    "clf_XGB7 = xgb.XGBClassifier(max_depth=4, n_estimators=400)\n",
    "\n",
    "clf_XGB8 = xgb.XGBClassifier(max_depth=6, n_estimators=100)\n",
    "clf_XGB9 = xgb.XGBClassifier(max_depth=6, n_estimators=200)\n",
    "clf_XGB10 = xgb.XGBClassifier(max_depth=6, n_estimators=400)\n",
    "\n",
    "eclf1 = VotingClassifier(estimators=[('AdaBoost', clf1), ('RF',clf2), ('ETC',clf3),('SVM',clf4),\n",
    "                                     ('SVM2',clf5),('XGB',clf_XGB),('XGB2',clf_XGB2),('XGB3',clf_XGB3),\n",
    "                                     ('XGB4',clf_XGB4),('XGB5',clf_XGB5),('XGB6',clf_XGB6),('XGB7',clf_XGB7),\n",
    "                                     ('XGB8',clf_XGB8),('XGB9',clf_XGB9),('XGB10',clf_XGB10)], voting='soft')\n",
    "\n",
    "bagging = BaggingClassifier(xgb.XGBClassifier(),n_estimators=100, verbose=3)"
   ]
  },
  {
   "cell_type": "code",
   "execution_count": null,
   "metadata": {
    "collapsed": false
   },
   "outputs": [],
   "source": [
    "#scores = cross_validation.cross_val_score(eclf1, train_num.drop( 'target', axis = 1 ), train_num.target, scoring = 'roc_auc', cv = 3, verbose = 1, n_jobs=-1 )\n",
    "scores = cross_validation.cross_val_score(bagging, train_num.drop( 'target', axis = 1 ), train_num.target, scoring = 'roc_auc', cv = 3, verbose = 1, n_jobs=-1 )"
   ]
  },
  {
   "cell_type": "code",
   "execution_count": null,
   "metadata": {
    "collapsed": true
   },
   "outputs": [],
   "source": [
    "print(\"Accuracy: %0.2f (+/- %0.2f)\" % (scores.mean(), scores.std() * 2))"
   ]
  },
  {
   "cell_type": "code",
   "execution_count": null,
   "metadata": {
    "collapsed": true
   },
   "outputs": [],
   "source": [
    "import winsound\n",
    "winsound.Beep(300,2000)"
   ]
  },
  {
   "cell_type": "code",
   "execution_count": null,
   "metadata": {
    "collapsed": true
   },
   "outputs": [],
   "source": [
    "p = bagging.predict_proba( test_num.drop( 't_id', axis = 1 ))\n",
    "\n",
    "# save\n",
    "\n",
    "test_num['probability'] = p[:,1]\n",
    "test_num.to_csv( output_file, columns = ( 't_id', 'probability' ), index = None )\n",
    "\n"
   ]
  }
 ],
 "metadata": {
  "kernelspec": {
   "display_name": "Python 2",
   "language": "python",
   "name": "python2"
  },
  "language_info": {
   "codemirror_mode": {
    "name": "ipython",
    "version": 2
   },
   "file_extension": ".py",
   "mimetype": "text/x-python",
   "name": "python",
   "nbconvert_exporter": "python",
   "pygments_lexer": "ipython2",
   "version": "2.7.9"
  }
 },
 "nbformat": 4,
 "nbformat_minor": 0
}
